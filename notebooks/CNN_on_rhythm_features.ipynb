{
 "cells": [
  {
   "cell_type": "code",
   "execution_count": null,
   "metadata": {
    "collapsed": false
   },
   "outputs": [],
   "source": [
    "%load_ext autoreload\n",
    "%autoreload 2\n",
    "\n",
    "import os\n",
    "from os import listdir\n",
    "from os.path import isfile, join\n",
    "\n",
    "import numpy as np\n",
    "import matplotlib.pyplot as plt\n",
    "\n",
    "import madmom\n",
    "\n",
    "import sys\n",
    "sys.path.append('../src')\n",
    "from preprocessing import load_rhythm_feature_db\n",
    "from models import OLSPatchRegressor\n",
    "import visualize\n",
    "from utils import cv\n",
    "MUSIC = 1\n",
    "SPEECH = 0\n",
    "\n",
    "na = np.newaxis\n",
    "\n",
    "plt.rc('text', usetex=True)\n",
    "plt.rc('font', family='serif')"
   ]
  },
  {
   "cell_type": "code",
   "execution_count": null,
   "metadata": {
    "collapsed": false
   },
   "outputs": [],
   "source": [
    "import keras\n",
    "from keras.models import Sequential\n",
    "from keras.layers import Dense, Dropout, Flatten, Lambda\n",
    "from keras.layers import Conv2D, MaxPooling2D\n",
    "from keras import backend as K"
   ]
  },
  {
   "cell_type": "code",
   "execution_count": null,
   "metadata": {
    "collapsed": false,
    "scrolled": true
   },
   "outputs": [],
   "source": [
    "music_dir  = '../data/music_speech/music_wav/'\n",
    "speech_dir = '../data/music_speech/speech_wav/'\n",
    "\n",
    "X, Y = load_rhythm_feature_db(music_dir, speech_dir, num_samples=-1)\n",
    "\n",
    "# change -1, 1 labels to 0,1\n",
    "Y = (Y + 1) / 2 \n",
    "\n",
    "# X is in (N,L,D) format\n",
    "\n",
    "X = X[:,na,:,:] # dont conv over the number of models\n",
    "\n",
    "batch_size = 8\n",
    "num_classes = 2\n",
    "epochs = 109\n",
    "\n",
    "# --------------------------------------------\n",
    "num_frequencies = X.shape[1]\n",
    "num_timesteps   = X.shape[2]\n",
    "num_channels    = X.shape[3]\n",
    "filter_time_size = 3\n",
    "input_shape = num_frequencies, num_timesteps, num_channels"
   ]
  },
  {
   "cell_type": "code",
   "execution_count": null,
   "metadata": {
    "collapsed": false
   },
   "outputs": [],
   "source": [
    "def reset_weights(model):\n",
    "    session = K.get_session()\n",
    "    for layer in model.layers: \n",
    "        if hasattr(layer, 'kernel_initializer'):\n",
    "            layer.kernel.initializer.run(session=session)\n",
    "\n",
    "MODEL = None\n",
    "def init_model(input_shape=(num_frequencies, num_timesteps, num_channels), reinit=False):\n",
    "    global MODEL\n",
    "    if MODEL is None:\n",
    "        \n",
    "        # DEFINE MODEL\n",
    "        model = Sequential()\n",
    "        model.add(MaxPooling2D(pool_size=(1, 3), input_shape=input_shape))\n",
    "        model.add(Conv2D(32, kernel_size=(num_frequencies, filter_size),\n",
    "                         activation='relu'))\n",
    "\n",
    "        model.add(Conv2D(1, kernel_size=(1, 1), activation='sigmoid'))\n",
    "        model.add(Lambda(lambda x: K.mean(x, axis=[1,2])))\n",
    "\n",
    "        model.compile(loss=keras.losses.binary_crossentropy,\n",
    "                      optimizer=keras.optimizers.Adadelta(),\n",
    "                      metrics=['accuracy'])\n",
    "        return model\n",
    "    \n",
    "    else:\n",
    "        model = MODEL\n",
    "        reset_weights(model)\n",
    "        return model\n",
    "\n",
    "train_model = lambda model, X, Y: model.fit(X, Y,\n",
    "                                        batch_size=batch_size,\n",
    "                                        epochs=epochs,\n",
    "                                        verbose=0)"
   ]
  },
  {
   "cell_type": "code",
   "execution_count": null,
   "metadata": {
    "collapsed": false,
    "scrolled": true
   },
   "outputs": [],
   "source": [
    "\n",
    "\n",
    "# evaluate using cross-validation on training set\n",
    "cvacc = cv(X, Y, init_model, train_model, nfolds=5, nrepetitions=1)\n",
    "print('CV loss:', cvacc[0])\n",
    "print('CV accuracy:', cvacc[1])"
   ]
  },
  {
   "cell_type": "code",
   "execution_count": null,
   "metadata": {
    "collapsed": false
   },
   "outputs": [],
   "source": [
    "split = 100\n",
    "Xtrain, Ytrain, Xtest, Ytest = X[:split], Y[:split], X[split:], Y[split:]\n",
    "# evaluate using train-test split\n",
    "model = init_model()\n",
    "train_model(model, Xtrain, Ytrain)\n",
    "score = model.evaluate(Xtest, Ytest, verbose=0)\n",
    "\n",
    "model_path = '../models/keras/'\n",
    "os.makedirs(model_path, exist_ok=True)\n",
    "\n",
    "model.save(os.path.join(model_path, 'cnn_on_features_filter{}-{:2.2f}.h5'.format(filter_size, score[1])))"
   ]
  },
  {
   "cell_type": "code",
   "execution_count": null,
   "metadata": {
    "collapsed": false
   },
   "outputs": [],
   "source": [
    "music = XTest[YTest == MUSIC][1]\n",
    "speech = XTest[YTest == SPEECH][2]\n",
    "visualize.prediction_over_time(music, speech, model)"
   ]
  }
 ],
 "metadata": {
  "kernelspec": {
   "display_name": "Python 3",
   "language": "python",
   "name": "python3"
  },
  "language_info": {
   "codemirror_mode": {
    "name": "ipython",
    "version": 3
   },
   "file_extension": ".py",
   "mimetype": "text/x-python",
   "name": "python",
   "nbconvert_exporter": "python",
   "pygments_lexer": "ipython3",
   "version": "3.6.1"
  }
 },
 "nbformat": 4,
 "nbformat_minor": 1
}
