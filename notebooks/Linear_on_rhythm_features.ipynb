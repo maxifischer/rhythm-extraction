{
 "cells": [
  {
   "cell_type": "code",
   "execution_count": null,
   "metadata": {
    "collapsed": false
   },
   "outputs": [],
   "source": [
    "%load_ext autoreload\n",
    "%autoreload 2\n",
    "\n",
    "import os\n",
    "from os import listdir\n",
    "from os.path import isfile, join\n",
    "\n",
    "import numpy as np\n",
    "import matplotlib.pyplot as plt\n",
    "\n",
    "import madmom\n",
    "\n",
    "import sys\n",
    "sys.path.append('../src')\n",
    "from preprocessing import load_rhythm_feature_db\n",
    "from models import OLSPatchRegressor\n",
    "import visualize\n",
    "MUSIC = 1\n",
    "SPEECH = 0\n",
    "\n",
    "na = np.newaxis\n",
    "\n",
    "plt.rc('text', usetex=True)\n",
    "plt.rc('font', family='serif')"
   ]
  },
  {
   "cell_type": "code",
   "execution_count": null,
   "metadata": {
    "collapsed": false
   },
   "outputs": [],
   "source": [
    "import keras\n",
    "from keras.models import Sequential\n",
    "from keras.layers import Dense, Dropout, Flatten, Lambda\n",
    "from keras.layers import Conv2D, MaxPooling2D\n",
    "from keras import backend as K"
   ]
  },
  {
   "cell_type": "code",
   "execution_count": null,
   "metadata": {
    "collapsed": false,
    "scrolled": false
   },
   "outputs": [],
   "source": [
    "music_dir  = '../data/music_speech/music_wav/'\n",
    "speech_dir = '../data/music_speech/speech_wav/'\n",
    "\n",
    "X, Y = load_rhythm_feature_db(music_dir, speech_dir, num_samples=-1)\n",
    "\n",
    "# change -1, 1 labels to 0,1\n",
    "Y = (Y + 1) / 2 \n",
    "\n",
    "# X is in (N,L,D) format\n",
    "\n",
    "X = X[:,na,:,:] # dont conv over the number of models\n",
    "\n",
    "t_ind = 96\n",
    "XTrain = X[:t_ind]\n",
    "YTrain = Y[:t_ind]\n",
    "XTest  = X[t_ind:]\n",
    "YTest  = Y[t_ind:]\n",
    "\n",
    "print(XTrain.shape, YTrain.shape)\n",
    "print(XTest.shape, YTest.shape)"
   ]
  },
  {
   "cell_type": "code",
   "execution_count": null,
   "metadata": {
    "collapsed": false
   },
   "outputs": [],
   "source": [
    "batch_size = 8\n",
    "num_classes = 2\n",
    "epochs = 109\n",
    "\n",
    "# --------------------------------------------\n",
    "num_frequencies = X.shape[1]\n",
    "num_timesteps   = X.shape[2]\n",
    "num_channels    = X.shape[3]\n",
    "filter_time_size = 3\n",
    "input_shape = num_frequencies, num_timesteps, num_channels\n",
    "\n",
    "# DEFINE MODEL\n",
    "model = Sequential()\n",
    "model.add(Conv2D(1, kernel_size=(num_frequencies, filter_time_size),\n",
    "                 activation='sigmoid',\n",
    "                 input_shape=input_shape))\n",
    "\n",
    "model.add(Lambda(lambda x: K.mean(x, axis=[1,2])))\n",
    "\n",
    "model.compile(loss=keras.losses.binary_crossentropy,\n",
    "              optimizer=keras.optimizers.Adadelta(),\n",
    "              metrics=['accuracy'])"
   ]
  },
  {
   "cell_type": "code",
   "execution_count": null,
   "metadata": {
    "collapsed": false,
    "scrolled": true
   },
   "outputs": [],
   "source": [
    "model.fit(XTrain, YTrain,\n",
    "          batch_size=batch_size,\n",
    "          epochs=epochs,\n",
    "          verbose=1,\n",
    "          validation_data=(XTest, YTest))\n",
    "score = model.evaluate(XTest, YTest, verbose=0)\n",
    "print('Test loss:', score[0])\n",
    "print('Test accuracy:', score[1])"
   ]
  },
  {
   "cell_type": "code",
   "execution_count": null,
   "metadata": {
    "collapsed": false
   },
   "outputs": [],
   "source": [
    "model_path = '../models/keras/'\n",
    "os.makedirs(model_path, exist_ok=True)\n",
    "\n",
    "model.save(os.path.join(model_path, 'linear_on_features_filter{}-{:2.2f}.h5'.format(filter_size, score[1])))"
   ]
  },
  {
   "cell_type": "code",
   "execution_count": null,
   "metadata": {
    "collapsed": false
   },
   "outputs": [],
   "source": [
    "\n",
    "music = XTest[YTest == MUSIC][0]\n",
    "speech = XTest[YTest == SPEECH][1]\n",
    "visualize.prediction_over_time(music, speech, model)"
   ]
  }
 ],
 "metadata": {
  "kernelspec": {
   "display_name": "Python 3",
   "language": "python",
   "name": "python3"
  },
  "language_info": {
   "codemirror_mode": {
    "name": "ipython",
    "version": 3
   },
   "file_extension": ".py",
   "mimetype": "text/x-python",
   "name": "python",
   "nbconvert_exporter": "python",
   "pygments_lexer": "ipython3",
   "version": "3.6.1"
  }
 },
 "nbformat": 4,
 "nbformat_minor": 1
}
