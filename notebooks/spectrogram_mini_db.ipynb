{
 "cells": [
  {
   "cell_type": "code",
   "execution_count": 1,
   "metadata": {
    "collapsed": true
   },
   "outputs": [],
   "source": [
    "%load_ext autoreload\n",
    "%autoreload 2\n",
    "\n",
    "from os import listdir\n",
    "from os.path import isfile, join\n",
    "\n",
    "import numpy as np\n",
    "import matplotlib.pyplot as plt\n",
    "import madmom\n",
    "\n",
    "import sys\n",
    "sys.path.append('../src')\n",
    "from preprocessing import get_dataset, spectro_mini_db_patches\n",
    "from models import OLSPatchRegressor\n",
    "\n",
    "na = np.newaxis\n",
    "\n",
    "plt.rc('text', usetex=True)\n",
    "plt.rc('font', family='serif')"
   ]
  },
  {
   "cell_type": "markdown",
   "metadata": {},
   "source": [
    "# Create a mini database with patches from the spectrogram and Train a simple OLS regressor on it"
   ]
  },
  {
   "cell_type": "markdown",
   "metadata": {},
   "source": [
    "TODO: \n",
    "\n",
    "- add STFT options to the spectrogram (window size etc)\n",
    "- add possibility to use different options at the same time (add depth dimension, is there a problem with the resulting shape?)"
   ]
  },
  {
   "cell_type": "markdown",
   "metadata": {},
   "source": [
    "## Training on Full Data"
   ]
  },
  {
   "cell_type": "code",
   "execution_count": 2,
   "metadata": {
    "collapsed": false,
    "scrolled": true
   },
   "outputs": [
    {
     "name": "stdout",
     "output_type": "stream",
     "text": [
      "Train Set Shape\n",
      "(128, 74, 1500, 1) (128,)\n"
     ]
    }
   ],
   "source": [
    "music_dir  = '../data/music_speech/music_wav/'\n",
    "speech_dir = '../data/music_speech/speech_wav/'\n",
    "\n",
    "num_samples = -1\n",
    "\n",
    "X, Y = get_dataset(music_dir, speech_dir, num_samples=num_samples, hpool=0, wpool=0)\n",
    "print('Train Set Shape')\n",
    "print(X.shape, Y.shape)"
   ]
  },
  {
   "cell_type": "code",
   "execution_count": 3,
   "metadata": {
    "collapsed": false
   },
   "outputs": [
    {
     "name": "stdout",
     "output_type": "stream",
     "text": [
      "Train Accuracy (Conv): 0.7941176470588235\n",
      "Test  Accuracy (Conv): 0.8076923076923077\n"
     ]
    }
   ],
   "source": [
    "N, = Y.shape\n",
    "\n",
    "train_test_ratio = 0.8\n",
    "n_train_images = int(N * train_test_ratio)\n",
    "\n",
    "I = np.random.permutation(N)\n",
    "train_indices = I[:n_train_images]\n",
    "test_indices  = I[n_train_images:]\n",
    "\n",
    "XTrain = X[train_indices]\n",
    "YTrain = Y[train_indices]\n",
    "XTest  = X[test_indices]\n",
    "YTest  = Y[test_indices]\n",
    "\n",
    "# Train linear patch regressor (att: no bias)\n",
    "regressor = OLSPatchRegressor()\n",
    "regressor.fit(XTrain, YTrain)\n",
    "\n",
    "print('Train Accuracy (Conv): {}'.format(np.mean(np.sign(np.mean(regressor.predict(XTrain), axis=1)) == YTrain)))\n",
    "print('Test  Accuracy (Conv): {}'.format(np.mean(np.sign(np.mean(regressor.predict(XTest), axis=1)) == YTest)))"
   ]
  },
  {
   "cell_type": "markdown",
   "metadata": {},
   "source": [
    "# ----------------------------------"
   ]
  },
  {
   "cell_type": "code",
   "execution_count": 4,
   "metadata": {
    "collapsed": true
   },
   "outputs": [],
   "source": [
    "def show_in_grid(input_3d, instant_output=True, figsize=(20, 20), save_path = None):\n",
    "    \n",
    "    N, H, W = input_3d.shape\n",
    "\n",
    "    N_h = int(np.floor(N**.5))\n",
    "    N_w = N // N_h\n",
    "\n",
    "    hpad, wpad = 1, 1\n",
    "    pad_val = np.min(input_3d)\n",
    "\n",
    "    # add padding and grid presentation\n",
    "    padded_input = np.pad(input_3d[:N_h * N_w], [[0,0], [hpad,hpad], [wpad,wpad]], mode='constant', constant_values=pad_val)\n",
    "    H_padded = H + 2*wpad\n",
    "    W_padded = W + 2*hpad\n",
    "    spectro_grid = padded_input.reshape(N_h, N_w, H_padded, W_padded).transpose(0, 2, 1, 3).reshape(N_h* H_padded, N_w * W_padded)\n",
    "    \n",
    "    # present the grid\n",
    "    fig = plt.figure(figsize=figsize)\n",
    "    plt.imshow(spectro_grid, origin='lower')\n",
    "    plt.axis('off')\n",
    "    \n",
    "    if save_path is not None:\n",
    "        plt.savefig(save_path, dpi=300)\n",
    "    \n",
    "    if instant_output:\n",
    "        plt.show()"
   ]
  }
 ],
 "metadata": {
  "kernelspec": {
   "display_name": "Python 3",
   "language": "python",
   "name": "python3"
  },
  "language_info": {
   "codemirror_mode": {
    "name": "ipython",
    "version": 3
   },
   "file_extension": ".py",
   "mimetype": "text/x-python",
   "name": "python",
   "nbconvert_exporter": "python",
   "pygments_lexer": "ipython3",
   "version": "3.5.2"
  }
 },
 "nbformat": 4,
 "nbformat_minor": 1
}
