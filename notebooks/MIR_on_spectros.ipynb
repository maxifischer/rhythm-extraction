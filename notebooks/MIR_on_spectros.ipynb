{
 "cells": [
  {
   "cell_type": "code",
   "execution_count": 13,
   "metadata": {
    "collapsed": false,
    "scrolled": false
   },
   "outputs": [
    {
     "name": "stdout",
     "output_type": "stream",
     "text": [
      "The autoreload extension is already loaded. To reload it, use:\n",
      "  %reload_ext autoreload\n"
     ]
    }
   ],
   "source": [
    "%load_ext autoreload\n",
    "%autoreload 2\n",
    "%matplotlib inline\n",
    "\n",
    "import os\n",
    "from os import listdir\n",
    "from os.path import isfile, join\n",
    "\n",
    "import numpy as np\n",
    "import matplotlib.pyplot as plt\n",
    "import madmom\n",
    "\n",
    "import sys\n",
    "sys.path.append('../src')\n",
    "from preprocessing import get_dataset, MIRData\n",
    "from models import OLSPatchRegressor\n",
    "import visualize\n",
    "from utils import cv\n",
    "MUSIC = 1\n",
    "SPEECH = 0\n",
    "\n",
    "na = np.newaxis\n",
    "\n",
    "plt.rc('text', usetex=True)\n",
    "plt.rc('font', family='serif')"
   ]
  },
  {
   "cell_type": "code",
   "execution_count": 3,
   "metadata": {
    "collapsed": true
   },
   "outputs": [],
   "source": [
    "import keras\n",
    "from keras.models import Sequential\n",
    "from keras.layers import Dense, Dropout, Flatten, Lambda\n",
    "from keras.layers import Conv2D, MaxPooling2D\n",
    "from keras import backend as K"
   ]
  },
  {
   "cell_type": "code",
   "execution_count": 4,
   "metadata": {
    "collapsed": true
   },
   "outputs": [],
   "source": [
    "music_dir  = '../data/music_speech/music_wav/'\n",
    "speech_dir = '../data/music_speech/speech_wav/'\n",
    "\n",
    "max_samples = -1"
   ]
  },
  {
   "cell_type": "code",
   "execution_count": 14,
   "metadata": {
    "collapsed": false
   },
   "outputs": [
    {
     "name": "stdout",
     "output_type": "stream",
     "text": [
      "generate dataset\n",
      "Load file 1/64 in ../data/music_speech/music_wav/\n"
     ]
    },
    {
     "name": "stderr",
     "output_type": "stream",
     "text": [
      "/home/niels/Dokumente/Informatik/Master/music/madmom/madmom/audio/stft.py:576: RuntimeWarning: `circular_shift` of the STFT must be set to 'True' for correct phase\n",
      "  \"for correct phase\", RuntimeWarning)\n",
      "/home/niels/Dokumente/Informatik/Master/music/madmom/madmom/audio/stft.py:658: UserWarning: `circular_shift` of the STFT must be set to 'True' for correct local group delay\n",
      "  warnings.warn(\"`circular_shift` of the STFT must be set to 'True' \"\n"
     ]
    },
    {
     "ename": "AttributeError",
     "evalue": "'Spectrogram' object has no attribute 'filterbank'",
     "output_type": "error",
     "traceback": [
      "\u001b[0;31m---------------------------------------------------------------------------\u001b[0m",
      "\u001b[0;31mAttributeError\u001b[0m                            Traceback (most recent call last)",
      "\u001b[0;32m<ipython-input-14-c53409fecfb0>\u001b[0m in \u001b[0;36m<module>\u001b[0;34m()\u001b[0m\n\u001b[1;32m      5\u001b[0m                        \u001b[0mfft_sizes\u001b[0m\u001b[0;34m=\u001b[0m\u001b[0;34m[\u001b[0m\u001b[0;36m1024\u001b[0m\u001b[0;34m,\u001b[0m \u001b[0;36m2048\u001b[0m\u001b[0;34m,\u001b[0m \u001b[0;36m4096\u001b[0m\u001b[0;34m]\u001b[0m\u001b[0;34m\u001b[0m\u001b[0m\n\u001b[1;32m      6\u001b[0m                   )\n\u001b[0;32m----> 7\u001b[0;31m \u001b[0mdata\u001b[0m \u001b[0;34m=\u001b[0m \u001b[0mMIRData\u001b[0m\u001b[0;34m(\u001b[0m\u001b[0mmusic_dir\u001b[0m\u001b[0;34m,\u001b[0m \u001b[0mspeech_dir\u001b[0m\u001b[0;34m)\u001b[0m\u001b[0;34m\u001b[0m\u001b[0m\n\u001b[0m\u001b[1;32m      8\u001b[0m \u001b[0mX\u001b[0m\u001b[0;34m,\u001b[0m \u001b[0mY\u001b[0m \u001b[0;34m=\u001b[0m \u001b[0mdata\u001b[0m\u001b[0;34m.\u001b[0m\u001b[0mX\u001b[0m\u001b[0;34m,\u001b[0m \u001b[0mdata\u001b[0m\u001b[0;34m.\u001b[0m\u001b[0mY\u001b[0m\u001b[0;34m\u001b[0m\u001b[0m\n\u001b[1;32m      9\u001b[0m \u001b[0;31m# --------------------------------------------\u001b[0m\u001b[0;34m\u001b[0m\u001b[0;34m\u001b[0m\u001b[0m\n",
      "\u001b[0;32m/home/niels/Dokumente/Informatik/Master/music/rhythm-extraction/src/preprocessing.py\u001b[0m in \u001b[0;36m__init__\u001b[0;34m(self, music_dir, speech_dir)\u001b[0m\n\u001b[1;32m    377\u001b[0m \u001b[0;34m\u001b[0m\u001b[0m\n\u001b[1;32m    378\u001b[0m         \u001b[0;31m# 24 bands for superflux https://madmom.readthedocs.io/en/latest/modules/features/onsets.html?highlight=spectral_flux#madmom.features.onsets.superflux\u001b[0m\u001b[0;34m\u001b[0m\u001b[0;34m\u001b[0m\u001b[0m\n\u001b[0;32m--> 379\u001b[0;31m         \u001b[0mX\u001b[0m\u001b[0;34m,\u001b[0m \u001b[0mY\u001b[0m \u001b[0;34m=\u001b[0m \u001b[0mget_dataset\u001b[0m\u001b[0;34m(\u001b[0m\u001b[0mmusic_dir\u001b[0m\u001b[0;34m,\u001b[0m \u001b[0mspeech_dir\u001b[0m\u001b[0;34m,\u001b[0m \u001b[0mprocess_dir\u001b[0m\u001b[0;34m=\u001b[0m\u001b[0mget_dir_mir\u001b[0m\u001b[0;34m,\u001b[0m \u001b[0mfile_suffix\u001b[0m\u001b[0;34m=\u001b[0m\u001b[0;34m\"_mir\"\u001b[0m\u001b[0;34m)\u001b[0m\u001b[0;34m\u001b[0m\u001b[0m\n\u001b[0m\u001b[1;32m    380\u001b[0m \u001b[0;34m\u001b[0m\u001b[0m\n\u001b[1;32m    381\u001b[0m         \u001b[0mY\u001b[0m \u001b[0;34m=\u001b[0m \u001b[0;34m(\u001b[0m\u001b[0mY\u001b[0m \u001b[0;34m+\u001b[0m \u001b[0;36m1\u001b[0m\u001b[0;34m)\u001b[0m \u001b[0;34m/\u001b[0m \u001b[0;36m2\u001b[0m\u001b[0;34m\u001b[0m\u001b[0m\n",
      "\u001b[0;32m/home/niels/Dokumente/Informatik/Master/music/rhythm-extraction/src/preprocessing.py\u001b[0m in \u001b[0;36mget_dataset\u001b[0;34m(music_dir, speech_dir, hpool, wpool, shuffle, num_samples, reload, process_dir, file_suffix, **kwargs)\u001b[0m\n\u001b[1;32m    131\u001b[0m         \u001b[0mprint\u001b[0m\u001b[0;34m(\u001b[0m\u001b[0;34m\"generate dataset\"\u001b[0m\u001b[0;34m)\u001b[0m\u001b[0;34m\u001b[0m\u001b[0m\n\u001b[1;32m    132\u001b[0m \u001b[0;34m\u001b[0m\u001b[0m\n\u001b[0;32m--> 133\u001b[0;31m     \u001b[0mmusic_spectros\u001b[0m  \u001b[0;34m=\u001b[0m \u001b[0mprocess_dir\u001b[0m\u001b[0;34m(\u001b[0m\u001b[0mmusic_dir\u001b[0m\u001b[0;34m,\u001b[0m \u001b[0mnum_samples\u001b[0m\u001b[0;34m,\u001b[0m \u001b[0;34m**\u001b[0m\u001b[0mkwargs\u001b[0m\u001b[0;34m)\u001b[0m\u001b[0;34m\u001b[0m\u001b[0m\n\u001b[0m\u001b[1;32m    134\u001b[0m     \u001b[0mspeech_spectros\u001b[0m \u001b[0;34m=\u001b[0m \u001b[0mprocess_dir\u001b[0m\u001b[0;34m(\u001b[0m\u001b[0mspeech_dir\u001b[0m\u001b[0;34m,\u001b[0m \u001b[0mnum_samples\u001b[0m\u001b[0;34m,\u001b[0m \u001b[0;34m**\u001b[0m\u001b[0mkwargs\u001b[0m\u001b[0;34m)\u001b[0m\u001b[0;34m\u001b[0m\u001b[0m\n\u001b[1;32m    135\u001b[0m \u001b[0;34m\u001b[0m\u001b[0m\n",
      "\u001b[0;32m/home/niels/Dokumente/Informatik/Master/music/rhythm-extraction/src/preprocessing.py\u001b[0m in \u001b[0;36mget_dir_mir\u001b[0;34m(audio_dir, num_samples)\u001b[0m\n\u001b[1;32m    365\u001b[0m     \u001b[0;32mfor\u001b[0m \u001b[0mi\u001b[0m\u001b[0;34m,\u001b[0m \u001b[0maf\u001b[0m \u001b[0;32min\u001b[0m \u001b[0menumerate\u001b[0m\u001b[0;34m(\u001b[0m\u001b[0maudio_files\u001b[0m\u001b[0;34m)\u001b[0m\u001b[0;34m:\u001b[0m\u001b[0;34m\u001b[0m\u001b[0m\n\u001b[1;32m    366\u001b[0m         \u001b[0mprint\u001b[0m\u001b[0;34m(\u001b[0m\u001b[0;34m\"Load file {}/{} in {}\"\u001b[0m\u001b[0;34m.\u001b[0m\u001b[0mformat\u001b[0m\u001b[0;34m(\u001b[0m\u001b[0mi\u001b[0m\u001b[0;34m+\u001b[0m\u001b[0;36m1\u001b[0m\u001b[0;34m,\u001b[0m \u001b[0mlen\u001b[0m\u001b[0;34m(\u001b[0m\u001b[0maudio_files\u001b[0m\u001b[0;34m)\u001b[0m\u001b[0;34m,\u001b[0m \u001b[0maudio_dir\u001b[0m\u001b[0;34m)\u001b[0m\u001b[0;34m)\u001b[0m\u001b[0;34m\u001b[0m\u001b[0m\n\u001b[0;32m--> 367\u001b[0;31m         \u001b[0mmirs\u001b[0m\u001b[0;34m.\u001b[0m\u001b[0mappend\u001b[0m\u001b[0;34m(\u001b[0m\u001b[0mget_mir\u001b[0m\u001b[0;34m(\u001b[0m\u001b[0mjoin\u001b[0m\u001b[0;34m(\u001b[0m\u001b[0maudio_dir\u001b[0m\u001b[0;34m,\u001b[0m \u001b[0maf\u001b[0m\u001b[0;34m)\u001b[0m\u001b[0;34m)\u001b[0m\u001b[0;34m)\u001b[0m\u001b[0;34m\u001b[0m\u001b[0m\n\u001b[0m\u001b[1;32m    368\u001b[0m     \u001b[0mmirs\u001b[0m \u001b[0;34m=\u001b[0m \u001b[0mnp\u001b[0m\u001b[0;34m.\u001b[0m\u001b[0marray\u001b[0m\u001b[0;34m(\u001b[0m\u001b[0mmirs\u001b[0m\u001b[0;34m)\u001b[0m\u001b[0;34m\u001b[0m\u001b[0m\n\u001b[1;32m    369\u001b[0m \u001b[0;34m\u001b[0m\u001b[0m\n",
      "\u001b[0;32m/home/niels/Dokumente/Informatik/Master/music/rhythm-extraction/src/preprocessing.py\u001b[0m in \u001b[0;36mget_mir\u001b[0;34m(audio_path)\u001b[0m\n\u001b[1;32m    343\u001b[0m     \u001b[0msflux\u001b[0m \u001b[0;34m=\u001b[0m \u001b[0msuperflux\u001b[0m\u001b[0;34m(\u001b[0m\u001b[0mspectrogram\u001b[0m\u001b[0;34m)\u001b[0m\u001b[0;34m\u001b[0m\u001b[0m\n\u001b[1;32m    344\u001b[0m     \u001b[0mcflux\u001b[0m \u001b[0;34m=\u001b[0m \u001b[0mcomplex_flux\u001b[0m\u001b[0;34m(\u001b[0m\u001b[0mspectrogram\u001b[0m\u001b[0;34m)\u001b[0m\u001b[0;34m\u001b[0m\u001b[0m\n\u001b[0;32m--> 345\u001b[0;31m     \u001b[0mmfcc\u001b[0m \u001b[0;34m=\u001b[0m \u001b[0mMFCC\u001b[0m\u001b[0;34m(\u001b[0m\u001b[0mspectrogram\u001b[0m\u001b[0;34m,\u001b[0m \u001b[0mfilterbank\u001b[0m\u001b[0;34m=\u001b[0m\u001b[0mmadmom\u001b[0m\u001b[0;34m.\u001b[0m\u001b[0maudio\u001b[0m\u001b[0;34m.\u001b[0m\u001b[0mfilters\u001b[0m\u001b[0;34m.\u001b[0m\u001b[0mMelFilterbank\u001b[0m\u001b[0;34m)\u001b[0m\u001b[0;34m\u001b[0m\u001b[0m\n\u001b[0m\u001b[1;32m    346\u001b[0m     \u001b[0;32mreturn\u001b[0m \u001b[0mnp\u001b[0m\u001b[0;34m.\u001b[0m\u001b[0mvstack\u001b[0m\u001b[0;34m(\u001b[0m\u001b[0;34m(\u001b[0m\u001b[0mflux\u001b[0m\u001b[0;34m,\u001b[0m \u001b[0msflux\u001b[0m\u001b[0;34m,\u001b[0m \u001b[0mcflux\u001b[0m\u001b[0;34m,\u001b[0m \u001b[0mmfcc\u001b[0m\u001b[0;34m)\u001b[0m\u001b[0;34m)\u001b[0m\u001b[0;34m\u001b[0m\u001b[0m\n\u001b[1;32m    347\u001b[0m \u001b[0;34m\u001b[0m\u001b[0m\n",
      "\u001b[0;32m/home/niels/Dokumente/Informatik/Master/music/madmom/madmom/audio/cepstrogram.py\u001b[0m in \u001b[0;36m__new__\u001b[0;34m(cls, spectrogram, transform, filterbank, num_bands, fmin, fmax, norm_filters, mul, add, **kwargs)\u001b[0m\n\u001b[1;32m    196\u001b[0m \u001b[0;34m\u001b[0m\u001b[0m\n\u001b[1;32m    197\u001b[0m         \u001b[0;31m# recalculate the spec if it is filtered or scaled already\u001b[0m\u001b[0;34m\u001b[0m\u001b[0;34m\u001b[0m\u001b[0m\n\u001b[0;32m--> 198\u001b[0;31m         if (spectrogram.filterbank is not None or\n\u001b[0m\u001b[1;32m    199\u001b[0m                 \u001b[0mspectrogram\u001b[0m\u001b[0;34m.\u001b[0m\u001b[0mmul\u001b[0m \u001b[0;32mis\u001b[0m \u001b[0;32mnot\u001b[0m \u001b[0;32mNone\u001b[0m \u001b[0;32mor\u001b[0m\u001b[0;34m\u001b[0m\u001b[0m\n\u001b[1;32m    200\u001b[0m                 spectrogram.add is not None):\n",
      "\u001b[0;31mAttributeError\u001b[0m: 'Spectrogram' object has no attribute 'filterbank'"
     ]
    }
   ],
   "source": [
    "if False:\n",
    "    X, Y = get_dataset(music_dir, speech_dir, hpool=0, wpool=0, \n",
    "                       num_samples=max_samples, shuffle=True, reload=False,\n",
    "                       window=np.hanning, fps=100, num_bands=3, fmin=30, fmax=17000, filtered=False,\n",
    "                       fft_sizes=[1024, 2048, 4096]\n",
    "                  )\n",
    "data = MIRData(music_dir, speech_dir)\n",
    "X, Y = data.X, data.Y\n",
    "# --------------------------------------------\n",
    "num_frequencies = X.shape[1]\n",
    "num_timesteps   = X.shape[2]\n",
    "num_channels    = X.shape[3]\n",
    "filter_time_size = 3\n",
    "input_shape = num_frequencies, num_timesteps, num_channels"
   ]
  },
  {
   "cell_type": "code",
   "execution_count": null,
   "metadata": {
    "collapsed": true
   },
   "outputs": [],
   "source": []
  },
  {
   "cell_type": "code",
   "execution_count": null,
   "metadata": {
    "collapsed": false
   },
   "outputs": [],
   "source": [
    "print('Train Set Shape')\n",
    "print(X.shape, Y.shape)\n",
    "\n",
    "Y = (Y + 1) / 2 "
   ]
  },
  {
   "cell_type": "markdown",
   "metadata": {},
   "source": [
    "# Train CNN using KERAS\n",
    "\n",
    "We now only use a convolution, so we have a linear model"
   ]
  },
  {
   "cell_type": "code",
   "execution_count": null,
   "metadata": {
    "collapsed": true
   },
   "outputs": [],
   "source": [
    "def reset_weights(model):\n",
    "    session = K.get_session()\n",
    "    for layer in model.layers: \n",
    "        if hasattr(layer, 'kernel_initializer'):\n",
    "            layer.kernel.initializer.run(session=session)\n",
    "\n",
    "MODEL = None\n",
    "def init_model(input_shape=(num_frequencies, num_timesteps, num_channels), reinit=False):\n",
    "    global MODEL\n",
    "    if MODEL is None:\n",
    "        \n",
    "        # DEFINE MODEL\n",
    "        model = Sequential()\n",
    "        model.add(Conv2D(1, kernel_size=(num_frequencies, filter_time_size),\n",
    "                         activation='sigmoid',\n",
    "                         input_shape=input_shape))\n",
    "\n",
    "        model.add(Lambda(lambda x: K.mean(x, axis=[1,2])))\n",
    "\n",
    "        model.compile(loss=keras.losses.binary_crossentropy,\n",
    "                      optimizer=keras.optimizers.Adadelta(),\n",
    "                      metrics=['accuracy'])\n",
    "        MODEL = model\n",
    "        return model\n",
    "    \n",
    "    else:\n",
    "        model = MODEL\n",
    "        reset_weights(model)\n",
    "        return model\n",
    "\n",
    "train_model = lambda model, X, Y: model.fit(X, Y,\n",
    "                                        batch_size=batch_size,\n",
    "                                        epochs=epochs,\n",
    "                                        verbose=0)\n",
    "\n",
    "# DEFINE MODEL\n"
   ]
  },
  {
   "cell_type": "code",
   "execution_count": null,
   "metadata": {
    "collapsed": false
   },
   "outputs": [],
   "source": [
    "\n",
    "\n",
    "# evaluate using cross-validation on training set\n",
    "cvacc = cv(X, Y, init_model, train_model, nfolds=5, nrepetitions=1)\n",
    "print('CV loss:', cvacc[0])\n",
    "print('CV accuracy:', cvacc[1])"
   ]
  },
  {
   "cell_type": "code",
   "execution_count": null,
   "metadata": {
    "collapsed": false
   },
   "outputs": [],
   "source": [
    "split = 100\n",
    "Xtrain, Ytrain, Xtest, Ytest = X[:split], Y[:split], X[split:], Y[split:]\n",
    "# evaluate using train-test split\n",
    "model = init_model()\n",
    "train_model(model, Xtrain, Ytrain)\n",
    "score = model.evaluate(Xtest, Ytest, verbose=0)\n",
    "\n",
    "model_path = '../models/keras/'\n",
    "os.makedirs(model_path, exist_ok=True)\n",
    "\n",
    "model.save(os.path.join(model_path, 'cnn_on_features_filter{}-{:2.2f}.h5'.format(filter_size, score[1])))"
   ]
  },
  {
   "cell_type": "code",
   "execution_count": null,
   "metadata": {
    "collapsed": false
   },
   "outputs": [],
   "source": [
    "music = XTest[YTest == MUSIC][1]\n",
    "speech = XTest[YTest == SPEECH][2]\n",
    "visualize.prediction_over_time(music, speech, model)"
   ]
  },
  {
   "cell_type": "code",
   "execution_count": null,
   "metadata": {
    "collapsed": true
   },
   "outputs": [],
   "source": []
  }
 ],
 "metadata": {
  "kernelspec": {
   "display_name": "Python 3",
   "language": "python",
   "name": "python3"
  },
  "language_info": {
   "codemirror_mode": {
    "name": "ipython",
    "version": 3
   },
   "file_extension": ".py",
   "mimetype": "text/x-python",
   "name": "python",
   "nbconvert_exporter": "python",
   "pygments_lexer": "ipython3",
   "version": "3.6.1"
  }
 },
 "nbformat": 4,
 "nbformat_minor": 1
}
